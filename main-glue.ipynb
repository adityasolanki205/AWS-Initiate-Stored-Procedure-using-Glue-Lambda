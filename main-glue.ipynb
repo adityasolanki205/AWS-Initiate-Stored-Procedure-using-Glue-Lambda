{
 "cells": [
  {
   "cell_type": "code",
   "execution_count": null,
   "id": "8165f178",
   "metadata": {},
   "outputs": [],
   "source": [
    "import sys\n",
    "from awsglue.transforms import *\n",
    "from awsglue.utils import getResolvedOptions\n",
    "from pyspark.context import SparkContext\n",
    "from awsglue.context import GlueContext\n",
    "from awsglue.job import Job\n",
    "\n",
    "args = getResolvedOptions(sys.argv, ['JOB_NAME'])\n",
    "\n",
    "sc = SparkContext()\n",
    "glueContext = GlueContext(sc)\n",
    "spark = glueContext.spark_session\n",
    "\n",
    "logger = glueContext.get_logger()\n",
    "\n",
    "job = Job(glueContext)\n",
    "job.init(args['JOB_NAME'], args)\n",
    "\n",
    "from py4j.java_gateway import java_import\n",
    "java_import(sc._gateway.jvm,\"java.sql.Connection\")\n",
    "java_import(sc._gateway.jvm,\"java.sql.DatabaseMetaData\")\n",
    "java_import(sc._gateway.jvm,\"java.sql.DriverManager\")\n",
    "java_import(sc._gateway.jvm,\"java.sql.SQLException\")\n",
    "\n",
    "# conn = sc._gateway.jvm.DriverManager.getConnection(source_jdbc_conf.get('url'), source_jdbc_conf.get('user'), source_jdbc_conf.get('password'))\n",
    "conn = sc._gateway.jvm.DriverManager.getConnection('jdbc:postgresql://database-test.cmzmx1cxsoz2.ap-south-1.rds.amazonaws.com:5432/company', 'postgres', 'postgres')\n",
    "\n",
    "print(conn.getMetaData().getDatabaseProductName())\n",
    "\n",
    "# call stored procedure, in this case I call sp_start_job\n",
    "cstmt = conn.prepareCall(\"CALL test_update()\");\n",
    "# cstmt.setString(\"job_name\", \"testjob\");\n",
    "results = cstmt.execute();\n",
    "\n",
    "conn.close()"
   ]
  }
 ],
 "metadata": {
  "kernelspec": {
   "display_name": "Python 3 (ipykernel)",
   "language": "python",
   "name": "python3"
  },
  "language_info": {
   "codemirror_mode": {
    "name": "ipython",
    "version": 3
   },
   "file_extension": ".py",
   "mimetype": "text/x-python",
   "name": "python",
   "nbconvert_exporter": "python",
   "pygments_lexer": "ipython3",
   "version": "3.9.13"
  }
 },
 "nbformat": 4,
 "nbformat_minor": 5
}
