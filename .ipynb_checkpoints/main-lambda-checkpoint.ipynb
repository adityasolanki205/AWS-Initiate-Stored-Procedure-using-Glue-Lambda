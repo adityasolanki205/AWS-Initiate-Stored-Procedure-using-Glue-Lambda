{
 "cells": [
  {
   "cell_type": "code",
   "execution_count": null,
   "id": "5ded3d48",
   "metadata": {},
   "outputs": [],
   "source": [
    "import sys\n",
    "import logging\n",
    "import psycopg2\n",
    "import json\n",
    "import os\n",
    "from psycopg2.extras import RealDictCursor\n",
    "\n",
    "user_name = \"postgres\"\n",
    "password_new = \"postgres\"\n",
    "rds_host = \"database-test.cmzmx1cxsoz2.ap-south-1.rds.amazonaws.com\"\n",
    "logger = logging.getLogger()\n",
    "logger.setLevel(logging.INFO)\n",
    "\n",
    "conn = psycopg2.connect(host=rds_host, user=user_name, password=password_new, port = \"5432\", database=\"company\")\n",
    "logger.info(\"SUCCESS: Connection to RDS Postgres instance succeeded\")\n",
    "\n",
    "\n",
    "def lambda_handler(event, context):\n",
    "    \"\"\"\n",
    "    This function creates a new RDS database table and writes records to it\n",
    "    \"\"\"\n",
    "    Name = 'aditya'\n",
    "    item_count = 0\n",
    "    \n",
    "    CustID = 0\n",
    "    with conn.cursor() as cur:\n",
    "        #cur.execute(\"create table if not exists customer ( CustID  int NOT NULL, Name varchar(255) NOT NULL, PRIMARY KEY (CustID))\")\n",
    "        #cur.execute(\"SELECT pg_sleep(600)\")\n",
    "        cur.execute(\" create or replace procedure test_update() language plpgsql as $$ begin update Customer set name = 'solanki' where custid  = 41; end;$$;\")\n",
    "        #cur.execute(\" create or replace procedure test_insert() language plpgsql as $$ begin insert into Customer (CustID, Name) values(31, 'New Proc'); end;$$;\")\n",
    "        # cur.execute(\"Call test_update ()\")\n",
    "        cur.execute(\"select * from Customer\")\n",
    "        for row in cur:\n",
    "            item_count += 1\n",
    "            logger.info(row)\n",
    "            \n",
    "        cur.execute(\"select max(CustID) from Customer\")\n",
    "        new = 0\n",
    "        for row in cur:\n",
    "            new = (row[0]) + 1\n",
    "        CustID = new\n",
    "        # CustID = 1\n",
    "        sql_string = f\"insert into Customer (CustID, Name) values({CustID}, '{Name}')\"\n",
    "        cur.execute(sql_string)\n",
    "        \n",
    "    conn.commit()\n",
    "\n",
    "    return \"Added %d items to RDS MySQL table\" %(item_count)"
   ]
  }
 ],
 "metadata": {
  "kernelspec": {
   "display_name": "Python 3 (ipykernel)",
   "language": "python",
   "name": "python3"
  },
  "language_info": {
   "codemirror_mode": {
    "name": "ipython",
    "version": 3
   },
   "file_extension": ".py",
   "mimetype": "text/x-python",
   "name": "python",
   "nbconvert_exporter": "python",
   "pygments_lexer": "ipython3",
   "version": "3.9.13"
  }
 },
 "nbformat": 4,
 "nbformat_minor": 5
}
